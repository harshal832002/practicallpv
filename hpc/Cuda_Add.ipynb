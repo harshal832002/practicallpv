{
  "nbformat": 4,
  "nbformat_minor": 0,
  "metadata": {
    "colab": {
      "provenance": [],
      "gpuType": "T4"
    },
    "kernelspec": {
      "name": "python3",
      "display_name": "Python 3"
    },
    "language_info": {
      "name": "python"
    },
    "accelerator": "GPU",
    "gpuClass": "standard"
  },
  "cells": [
    {
      "cell_type": "code",
      "source": [
        "!/usr/local/cuda/bin/nvcc --version"
      ],
      "metadata": {
        "colab": {
          "base_uri": "https://localhost:8080/"
        },
        "id": "6wQQXUdp3FmX",
        "outputId": "dd386207-c468-4311-b2eb-6a09d7877a9d"
      },
      "execution_count": 11,
      "outputs": [
        {
          "output_type": "stream",
          "name": "stdout",
          "text": [
            "nvcc: NVIDIA (R) Cuda compiler driver\n",
            "Copyright (c) 2005-2022 NVIDIA Corporation\n",
            "Built on Wed_Sep_21_10:33:58_PDT_2022\n",
            "Cuda compilation tools, release 11.8, V11.8.89\n",
            "Build cuda_11.8.r11.8/compiler.31833905_0\n"
          ]
        }
      ]
    },
    {
      "cell_type": "code",
      "execution_count": 12,
      "metadata": {
        "colab": {
          "base_uri": "https://localhost:8080/"
        },
        "id": "g7WwFgoCz_iN",
        "outputId": "618449ef-9f94-4ac1-94ba-c3d52ebe7b4d"
      },
      "outputs": [
        {
          "output_type": "stream",
          "name": "stdout",
          "text": [
            "Looking in indexes: https://pypi.org/simple, https://us-python.pkg.dev/colab-wheels/public/simple/\n",
            "Collecting git+https://github.com/andreinechaev/nvcc4jupyter.git\n",
            "  Cloning https://github.com/andreinechaev/nvcc4jupyter.git to /tmp/pip-req-build-pz6tmnu_\n",
            "  Running command git clone --filter=blob:none --quiet https://github.com/andreinechaev/nvcc4jupyter.git /tmp/pip-req-build-pz6tmnu_\n",
            "  Resolved https://github.com/andreinechaev/nvcc4jupyter.git to commit aac710a35f52bb78ab34d2e52517237941399eff\n",
            "  Preparing metadata (setup.py) ... \u001b[?25l\u001b[?25hdone\n"
          ]
        }
      ],
      "source": [
        "!pip install git+https://github.com/andreinechaev/nvcc4jupyter.git"
      ]
    },
    {
      "cell_type": "code",
      "source": [
        "%load_ext nvcc_plugin"
      ],
      "metadata": {
        "colab": {
          "base_uri": "https://localhost:8080/"
        },
        "id": "l0E848AI05-Q",
        "outputId": "6eb0ba20-8a0e-49d6-f8e5-488fac7829a4"
      },
      "execution_count": 13,
      "outputs": [
        {
          "output_type": "stream",
          "name": "stdout",
          "text": [
            "The nvcc_plugin extension is already loaded. To reload it, use:\n",
            "  %reload_ext nvcc_plugin\n"
          ]
        }
      ]
    },
    {
      "cell_type": "code",
      "source": [
        "%%cu\n",
        "#include <stdio.h>\n",
        "#include <cuda.h>\n",
        "#include <cuda_runtime.h>\n",
        "#include <time.h>\n",
        "#define N 7\n",
        "__global__ void gpuAdd(int *d_a, int *d_b, int *d_c)\n",
        "{\n",
        "    int tid = blockIdx.x;\n",
        "    if (tid < N)\n",
        "    d_c[tid] = d_a[tid] + d_b[tid];\n",
        "}\n",
        "int main(void)\n",
        "{\n",
        "    int h_a[N], h_b[N], h_c[N];\n",
        "    int *d_a, *d_b, *d_c;\n",
        "    cudaMalloc((void**)&d_a, N * sizeof(int));\n",
        "    cudaMalloc((void**)&d_b, N * sizeof(int));\n",
        "    cudaMalloc((void**)&d_c, N * sizeof(int));\n",
        "    cudaEvent_t start,end;\n",
        "    cudaEventCreate(&start);\n",
        "    cudaEventCreate(&end);\n",
        "    cudaEventRecord(start);\n",
        "    for (int i = 0; i < N; i++) \n",
        "    {\n",
        "        h_a[i] = 2*i*i;\n",
        "        h_b[i] = i ;\n",
        "    }\n",
        "    cudaMemcpy(d_a, h_a, N * sizeof(int), cudaMemcpyHostToDevice);\n",
        "    cudaMemcpy(d_b, h_b, N * sizeof(int), cudaMemcpyHostToDevice);\n",
        "    gpuAdd <<<N, 1 >>>(d_a, d_b, d_c);\n",
        "    cudaMemcpy(h_c, d_c, N * sizeof(int), cudaMemcpyDeviceToHost);\n",
        "    printf(\"Vector addition on GPU \\n\");\n",
        "    for (int i = 0; i < N; i++) \n",
        "    {\n",
        "        printf(\"The sum of %d element is %d + %d = %d\\n\", i, h_a[i], h_b[i],h_c[i]);\n",
        "    }\n",
        "    cudaEventRecord(end);\n",
        "    cudaEventSynchronize(end);\n",
        "    float time=0;\n",
        "    cudaEventElapsedTime(&time, start, end);\n",
        "    printf(\"\\nexecution time=%f\",time);\n",
        " \n",
        "    cudaFree(d_a);\n",
        "    cudaFree(d_b);\n",
        "    cudaFree(d_c);\n",
        "    return 0;\n",
        "}"
      ],
      "metadata": {
        "colab": {
          "base_uri": "https://localhost:8080/"
        },
        "id": "ma-YLm-41gcA",
        "outputId": "41d18692-fedc-4aa7-c8e9-b393e0a2a49b"
      },
      "execution_count": 14,
      "outputs": [
        {
          "output_type": "stream",
          "name": "stdout",
          "text": [
            "Vector addition on GPU \n",
            "The sum of 0 element is 0 + 0 = 0\n",
            "The sum of 1 element is 2 + 1 = 3\n",
            "The sum of 2 element is 8 + 2 = 10\n",
            "The sum of 3 element is 18 + 3 = 21\n",
            "The sum of 4 element is 32 + 4 = 36\n",
            "The sum of 5 element is 50 + 5 = 55\n",
            "The sum of 6 element is 72 + 6 = 78\n",
            "\n",
            "execution time=0.066464\n"
          ]
        }
      ]
    },
    {
      "cell_type": "code",
      "source": [],
      "metadata": {
        "id": "m68GF9OX6nNW"
      },
      "execution_count": null,
      "outputs": []
    }
  ]
}